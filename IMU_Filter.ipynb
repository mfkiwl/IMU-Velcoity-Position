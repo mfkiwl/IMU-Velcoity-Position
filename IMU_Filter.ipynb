{
 "cells": [
  {
   "cell_type": "code",
   "execution_count": 128,
   "metadata": {},
   "outputs": [],
   "source": [
    "import numpy as np \n",
    "import pandas as pd "
   ]
  },
  {
   "cell_type": "code",
   "execution_count": 129,
   "metadata": {},
   "outputs": [
    {
     "data": {
      "text/html": [
       "<div>\n",
       "<style scoped>\n",
       "    .dataframe tbody tr th:only-of-type {\n",
       "        vertical-align: middle;\n",
       "    }\n",
       "\n",
       "    .dataframe tbody tr th {\n",
       "        vertical-align: top;\n",
       "    }\n",
       "\n",
       "    .dataframe thead th {\n",
       "        text-align: right;\n",
       "    }\n",
       "</style>\n",
       "<table border=\"1\" class=\"dataframe\">\n",
       "  <thead>\n",
       "    <tr style=\"text-align: right;\">\n",
       "      <th></th>\n",
       "      <th>Time</th>\n",
       "      <th>ax</th>\n",
       "      <th>ay</th>\n",
       "    </tr>\n",
       "  </thead>\n",
       "  <tbody>\n",
       "    <tr>\n",
       "      <th>0</th>\n",
       "      <td>08:58:06.422</td>\n",
       "      <td>0.002</td>\n",
       "      <td>-0.0020</td>\n",
       "    </tr>\n",
       "    <tr>\n",
       "      <th>1</th>\n",
       "      <td>08:58:06.520</td>\n",
       "      <td>0.002</td>\n",
       "      <td>-0.0015</td>\n",
       "    </tr>\n",
       "    <tr>\n",
       "      <th>2</th>\n",
       "      <td>08:58:06.616</td>\n",
       "      <td>0.002</td>\n",
       "      <td>-0.0020</td>\n",
       "    </tr>\n",
       "    <tr>\n",
       "      <th>3</th>\n",
       "      <td>08:58:06.725</td>\n",
       "      <td>0.002</td>\n",
       "      <td>-0.0020</td>\n",
       "    </tr>\n",
       "    <tr>\n",
       "      <th>4</th>\n",
       "      <td>08:58:06.806</td>\n",
       "      <td>0.002</td>\n",
       "      <td>-0.0020</td>\n",
       "    </tr>\n",
       "  </tbody>\n",
       "</table>\n",
       "</div>"
      ],
      "text/plain": [
       "            Time     ax      ay\n",
       "0   08:58:06.422  0.002 -0.0020\n",
       "1   08:58:06.520  0.002 -0.0015\n",
       "2   08:58:06.616  0.002 -0.0020\n",
       "3   08:58:06.725  0.002 -0.0020\n",
       "4   08:58:06.806  0.002 -0.0020"
      ]
     },
     "execution_count": 129,
     "metadata": {},
     "output_type": "execute_result"
    }
   ],
   "source": [
    "df = pd.read_csv('imu.csv')\n",
    "df.head()"
   ]
  },
  {
   "cell_type": "code",
   "execution_count": 130,
   "metadata": {},
   "outputs": [
    {
     "data": {
      "text/html": [
       "<div>\n",
       "<style scoped>\n",
       "    .dataframe tbody tr th:only-of-type {\n",
       "        vertical-align: middle;\n",
       "    }\n",
       "\n",
       "    .dataframe tbody tr th {\n",
       "        vertical-align: top;\n",
       "    }\n",
       "\n",
       "    .dataframe thead th {\n",
       "        text-align: right;\n",
       "    }\n",
       "</style>\n",
       "<table border=\"1\" class=\"dataframe\">\n",
       "  <thead>\n",
       "    <tr style=\"text-align: right;\">\n",
       "      <th></th>\n",
       "      <th>Time</th>\n",
       "      <th>ax</th>\n",
       "      <th>ay</th>\n",
       "    </tr>\n",
       "  </thead>\n",
       "  <tbody>\n",
       "    <tr>\n",
       "      <th>0</th>\n",
       "      <td>08:58:06.422</td>\n",
       "      <td>0.0196</td>\n",
       "      <td>-0.0196</td>\n",
       "    </tr>\n",
       "    <tr>\n",
       "      <th>1</th>\n",
       "      <td>08:58:06.520</td>\n",
       "      <td>0.0196</td>\n",
       "      <td>-0.0147</td>\n",
       "    </tr>\n",
       "    <tr>\n",
       "      <th>2</th>\n",
       "      <td>08:58:06.616</td>\n",
       "      <td>0.0196</td>\n",
       "      <td>-0.0196</td>\n",
       "    </tr>\n",
       "    <tr>\n",
       "      <th>3</th>\n",
       "      <td>08:58:06.725</td>\n",
       "      <td>0.0196</td>\n",
       "      <td>-0.0196</td>\n",
       "    </tr>\n",
       "    <tr>\n",
       "      <th>4</th>\n",
       "      <td>08:58:06.806</td>\n",
       "      <td>0.0196</td>\n",
       "      <td>-0.0196</td>\n",
       "    </tr>\n",
       "  </tbody>\n",
       "</table>\n",
       "</div>"
      ],
      "text/plain": [
       "            Time      ax      ay\n",
       "0   08:58:06.422  0.0196 -0.0196\n",
       "1   08:58:06.520  0.0196 -0.0147\n",
       "2   08:58:06.616  0.0196 -0.0196\n",
       "3   08:58:06.725  0.0196 -0.0196\n",
       "4   08:58:06.806  0.0196 -0.0196"
      ]
     },
     "execution_count": 130,
     "metadata": {},
     "output_type": "execute_result"
    }
   ],
   "source": [
    "df.ax = df.ax * 9.8 \n",
    "df.ay = df.ay * 9.8 \n",
    "df.head()"
   ]
  },
  {
   "cell_type": "code",
   "execution_count": 131,
   "metadata": {},
   "outputs": [
    {
     "data": {
      "text/html": [
       "<div>\n",
       "<style scoped>\n",
       "    .dataframe tbody tr th:only-of-type {\n",
       "        vertical-align: middle;\n",
       "    }\n",
       "\n",
       "    .dataframe tbody tr th {\n",
       "        vertical-align: top;\n",
       "    }\n",
       "\n",
       "    .dataframe thead th {\n",
       "        text-align: right;\n",
       "    }\n",
       "</style>\n",
       "<table border=\"1\" class=\"dataframe\">\n",
       "  <thead>\n",
       "    <tr style=\"text-align: right;\">\n",
       "      <th></th>\n",
       "      <th>Time</th>\n",
       "      <th>ax</th>\n",
       "      <th>ay</th>\n",
       "    </tr>\n",
       "  </thead>\n",
       "  <tbody>\n",
       "    <tr>\n",
       "      <th>0</th>\n",
       "      <td>08:58:06.422</td>\n",
       "      <td>0.0196</td>\n",
       "      <td>-0.0196</td>\n",
       "    </tr>\n",
       "    <tr>\n",
       "      <th>1</th>\n",
       "      <td>08:58:06.520</td>\n",
       "      <td>0.0196</td>\n",
       "      <td>-0.0147</td>\n",
       "    </tr>\n",
       "    <tr>\n",
       "      <th>2</th>\n",
       "      <td>08:58:06.616</td>\n",
       "      <td>0.0196</td>\n",
       "      <td>-0.0196</td>\n",
       "    </tr>\n",
       "    <tr>\n",
       "      <th>3</th>\n",
       "      <td>08:58:06.725</td>\n",
       "      <td>0.0196</td>\n",
       "      <td>-0.0196</td>\n",
       "    </tr>\n",
       "    <tr>\n",
       "      <th>4</th>\n",
       "      <td>08:58:06.806</td>\n",
       "      <td>0.0196</td>\n",
       "      <td>-0.0196</td>\n",
       "    </tr>\n",
       "  </tbody>\n",
       "</table>\n",
       "</div>"
      ],
      "text/plain": [
       "            Time      ax      ay\n",
       "0   08:58:06.422  0.0196 -0.0196\n",
       "1   08:58:06.520  0.0196 -0.0147\n",
       "2   08:58:06.616  0.0196 -0.0196\n",
       "3   08:58:06.725  0.0196 -0.0196\n",
       "4   08:58:06.806  0.0196 -0.0196"
      ]
     },
     "execution_count": 131,
     "metadata": {},
     "output_type": "execute_result"
    }
   ],
   "source": [
    "from datetime import datetime\n",
    "df.head()"
   ]
  },
  {
   "cell_type": "code",
   "execution_count": 132,
   "metadata": {},
   "outputs": [
    {
     "data": {
      "text/plain": [
       "0     1900-01-01 08:58:06.422\n",
       "1     1900-01-01 08:58:06.520\n",
       "2     1900-01-01 08:58:06.616\n",
       "3     1900-01-01 08:58:06.725\n",
       "4     1900-01-01 08:58:06.806\n",
       "                ...          \n",
       "761   1900-01-01 08:59:22.329\n",
       "762   1900-01-01 08:59:22.424\n",
       "763   1900-01-01 08:59:22.524\n",
       "764   1900-01-01 08:59:22.634\n",
       "765   1900-01-01 08:59:22.744\n",
       "Name: Time, Length: 766, dtype: datetime64[ns]"
      ]
     },
     "execution_count": 132,
     "metadata": {},
     "output_type": "execute_result"
    }
   ],
   "source": [
    "df['Time']= df['Time'].apply(lambda x: datetime.strptime(x.strip(), '%H:%M:%S.%f'))\n",
    "df['Time']"
   ]
  },
  {
   "cell_type": "markdown",
   "metadata": {},
   "source": [
    "df.Time[0]"
   ]
  },
  {
   "cell_type": "code",
   "execution_count": 148,
   "metadata": {},
   "outputs": [],
   "source": [
    "import math \n",
    "import matplotlib.pyplot as plt "
   ]
  },
  {
   "cell_type": "code",
   "execution_count": 169,
   "metadata": {},
   "outputs": [
    {
     "data": {
      "text/plain": [
       "[<matplotlib.lines.Line2D at 0x1c753688070>]"
      ]
     },
     "execution_count": 169,
     "metadata": {},
     "output_type": "execute_result"
    },
    {
     "data": {
      "image/png": "[encoded data removed]",
      "text/plain": [
       "<Figure size 432x288 with 1 Axes>"
      ]
     },
     "metadata": {
      "needs_background": "light"
     },
     "output_type": "display_data"
    }
   ],
   "source": [
    "vxLast = 0 \n",
    "vyLast = 0\n",
    "pxLast = 0 \n",
    "pyLast = 0 \n",
    " \n",
    "lastT = 0 \n",
    "Vmag =[]\n",
    "\n",
    "timeStamp =[]\n",
    "px = []\n",
    "py = []\n",
    "for idx , (currentT , currentAx, currentAy) in enumerate (zip(df.Time ,df.ax, df.ay)):\n",
    "# for idx , data in enumerate (zip(df.Time ,df.ax, df.ay)):\n",
    "    \n",
    "    # currentT = datetime.strptime(currentT, '%H:%M:%S.%f')\n",
    "    if idx != 0 :\n",
    "        currentT = currentT.timestamp() - df.Time[0].timestamp()\n",
    "    else: \n",
    "        currentT = 0     \n",
    "    \n",
    "    # print(currentT)\n",
    "    timeStamp.append(currentT)\n",
    "    dt = currentT - lastT\n",
    "    vxCurrent = vxLast + float(currentAx) * dt\n",
    "    vyCurrent = vyLast + float(currentAy) * dt\n",
    "    \n",
    "    pxCurrent = pxLast + vxCurrent *dt + float(currentAx) * (dt**2)\n",
    "    pyCurrent = pyLast + vyCurrent *dt + float(currentAy) * (dt**2)\n",
    "    \n",
    "    Vmag.append(math.sqrt(vxCurrent**2 + vyCurrent**2))\n",
    "    # vx.append(vxCurrent)\n",
    "    # vy.append(vyCurrent)\n",
    "    \n",
    "    px.append(pxCurrent)\n",
    "    py.append(pyCurrent)\n",
    "    \n",
    "    vxLast , vyLast ,pxLast , pyLast , lastT = vxCurrent , vyCurrent , pxCurrent , pyCurrent ,currentT\n",
    "# timeTest = datetime.datetime(1900,1,1,0,0,0,0).timestamp()\n",
    "# print(timeTest)\n",
    "df['Vmag']= Vmag \n",
    "df['PosX'] = px\n",
    "df['PosY'] = py \n",
    "df.head(100)\n",
    "# plt.axis('equal')\n",
    "df[\"Amag\"] = [math.sqrt(i[0]**2 + i[1]**2) for i in zip(df.ax, df.ay)]\n",
    "\n",
    "plt.plot(timeStamp,df.ax)\n",
    "plt.plot(timeStamp,Vmag)"
   ]
  }
 ],
 "metadata": {
  "kernelspec": {
   "display_name": "Python 3.8.6 64-bit",
   "language": "python",
   "name": "python3"
  },
  "language_info": {
   "codemirror_mode": {
    "name": "ipython",
    "version": 3
   },
   "file_extension": ".py",
   "mimetype": "text/x-python",
   "name": "python",
   "nbconvert_exporter": "python",
   "pygments_lexer": "ipython3",
   "version": "3.8.6"
  },
  "orig_nbformat": 4,
  "vscode": {
   "interpreter": {
    "hash": "a4868653bb6f8972e87e4c446ab8a445a15b25dedb8594cc74c480f8152ea86a"
   }
  }
 },
 "nbformat": 4,
 "nbformat_minor": 2
}
